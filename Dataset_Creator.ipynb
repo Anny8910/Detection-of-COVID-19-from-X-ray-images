{
  "nbformat": 4,
  "nbformat_minor": 0,
  "metadata": {
    "colab": {
      "name": "Dataset Creator.ipynb",
      "provenance": [],
      "collapsed_sections": [],
      "mount_file_id": "1tjQ_E7z-krxZTZAk7n42Rl1Ucay3HQF9",
      "authorship_tag": "ABX9TyNXu6FTVOGuaf3+OcphTQ53",
      "include_colab_link": true
    },
    "kernelspec": {
      "name": "python3",
      "display_name": "Python 3"
    },
    "accelerator": "GPU"
  },
  "cells": [
    {
      "cell_type": "markdown",
      "metadata": {
        "id": "view-in-github",
        "colab_type": "text"
      },
      "source": [
        "<a href=\"https://colab.research.google.com/github/Anny8910/Detection-of-COVID-19-from-X-ray-images/blob/master/Dataset_Creator.ipynb\" target=\"_parent\"><img src=\"https://colab.research.google.com/assets/colab-badge.svg\" alt=\"Open In Colab\"/></a>"
      ]
    },
    {
      "cell_type": "code",
      "metadata": {
        "id": "WYftrD1pdo3L",
        "colab_type": "code",
        "colab": {}
      },
      "source": [
        "import pandas as pd\n",
        "import os\n",
        "import shutil"
      ],
      "execution_count": 173,
      "outputs": []
    },
    {
      "cell_type": "code",
      "metadata": {
        "id": "IeJ-WRJpeWD7",
        "colab_type": "code",
        "colab": {}
      },
      "source": [
        "#Sampling of COVID-19 dataset\n",
        "\n",
        "FILE_PATH=\"/content/drive/My Drive/Colab Notebooks/COVID-19/covid-chestxray-dataset-master/covid-chestxray-dataset-master/metadata.csv\"\n",
        "IMAGE_PATH=\"/content/drive/My Drive/Colab Notebooks/COVID-19/covid-chestxray-dataset-master/covid-chestxray-dataset-master/images\""
      ],
      "execution_count": 174,
      "outputs": []
    },
    {
      "cell_type": "code",
      "metadata": {
        "id": "Uc2zWLPXeueb",
        "colab_type": "code",
        "colab": {
          "base_uri": "https://localhost:8080/",
          "height": 551
        },
        "outputId": "656cc4ae-6884-4c2c-f6a2-fe6046966f2c"
      },
      "source": [
        "df=pd.read_csv(FILE_PATH)\n",
        "df.head()"
      ],
      "execution_count": 175,
      "outputs": [
        {
          "output_type": "execute_result",
          "data": {
            "text/html": [
              "<div>\n",
              "<style scoped>\n",
              "    .dataframe tbody tr th:only-of-type {\n",
              "        vertical-align: middle;\n",
              "    }\n",
              "\n",
              "    .dataframe tbody tr th {\n",
              "        vertical-align: top;\n",
              "    }\n",
              "\n",
              "    .dataframe thead th {\n",
              "        text-align: right;\n",
              "    }\n",
              "</style>\n",
              "<table border=\"1\" class=\"dataframe\">\n",
              "  <thead>\n",
              "    <tr style=\"text-align: right;\">\n",
              "      <th></th>\n",
              "      <th>patientid</th>\n",
              "      <th>offset</th>\n",
              "      <th>sex</th>\n",
              "      <th>age</th>\n",
              "      <th>finding</th>\n",
              "      <th>RT_PCR_positive</th>\n",
              "      <th>survival</th>\n",
              "      <th>intubated</th>\n",
              "      <th>intubation_present</th>\n",
              "      <th>went_icu</th>\n",
              "      <th>in_icu</th>\n",
              "      <th>needed_supplemental_O2</th>\n",
              "      <th>extubated</th>\n",
              "      <th>temperature</th>\n",
              "      <th>pO2_saturation</th>\n",
              "      <th>leukocyte_count</th>\n",
              "      <th>neutrophil_count</th>\n",
              "      <th>lymphocyte_count</th>\n",
              "      <th>view</th>\n",
              "      <th>modality</th>\n",
              "      <th>date</th>\n",
              "      <th>location</th>\n",
              "      <th>folder</th>\n",
              "      <th>filename</th>\n",
              "      <th>doi</th>\n",
              "      <th>url</th>\n",
              "      <th>license</th>\n",
              "      <th>clinical_notes</th>\n",
              "      <th>other_notes</th>\n",
              "    </tr>\n",
              "  </thead>\n",
              "  <tbody>\n",
              "    <tr>\n",
              "      <th>0</th>\n",
              "      <td>2</td>\n",
              "      <td>0.0</td>\n",
              "      <td>M</td>\n",
              "      <td>65.0</td>\n",
              "      <td>COVID-19</td>\n",
              "      <td>Y</td>\n",
              "      <td>Y</td>\n",
              "      <td>N</td>\n",
              "      <td>N</td>\n",
              "      <td>N</td>\n",
              "      <td>N</td>\n",
              "      <td>Y</td>\n",
              "      <td>NaN</td>\n",
              "      <td>NaN</td>\n",
              "      <td>NaN</td>\n",
              "      <td>NaN</td>\n",
              "      <td>NaN</td>\n",
              "      <td>NaN</td>\n",
              "      <td>PA</td>\n",
              "      <td>X-ray</td>\n",
              "      <td>January 22, 2020</td>\n",
              "      <td>Cho Ray Hospital, Ho Chi Minh City, Vietnam</td>\n",
              "      <td>images</td>\n",
              "      <td>auntminnie-a-2020_01_28_23_51_6665_2020_01_28_...</td>\n",
              "      <td>10.1056/nejmc2001272</td>\n",
              "      <td>https://www.nejm.org/doi/full/10.1056/NEJMc200...</td>\n",
              "      <td>NaN</td>\n",
              "      <td>On January 22, 2020, a 65-year-old man with a ...</td>\n",
              "      <td>NaN</td>\n",
              "    </tr>\n",
              "    <tr>\n",
              "      <th>1</th>\n",
              "      <td>2</td>\n",
              "      <td>3.0</td>\n",
              "      <td>M</td>\n",
              "      <td>65.0</td>\n",
              "      <td>COVID-19</td>\n",
              "      <td>Y</td>\n",
              "      <td>Y</td>\n",
              "      <td>N</td>\n",
              "      <td>N</td>\n",
              "      <td>N</td>\n",
              "      <td>N</td>\n",
              "      <td>Y</td>\n",
              "      <td>NaN</td>\n",
              "      <td>NaN</td>\n",
              "      <td>NaN</td>\n",
              "      <td>NaN</td>\n",
              "      <td>NaN</td>\n",
              "      <td>NaN</td>\n",
              "      <td>PA</td>\n",
              "      <td>X-ray</td>\n",
              "      <td>January 25, 2020</td>\n",
              "      <td>Cho Ray Hospital, Ho Chi Minh City, Vietnam</td>\n",
              "      <td>images</td>\n",
              "      <td>auntminnie-b-2020_01_28_23_51_6665_2020_01_28_...</td>\n",
              "      <td>10.1056/nejmc2001272</td>\n",
              "      <td>https://www.nejm.org/doi/full/10.1056/NEJMc200...</td>\n",
              "      <td>NaN</td>\n",
              "      <td>On January 22, 2020, a 65-year-old man with a ...</td>\n",
              "      <td>NaN</td>\n",
              "    </tr>\n",
              "    <tr>\n",
              "      <th>2</th>\n",
              "      <td>2</td>\n",
              "      <td>5.0</td>\n",
              "      <td>M</td>\n",
              "      <td>65.0</td>\n",
              "      <td>COVID-19</td>\n",
              "      <td>Y</td>\n",
              "      <td>Y</td>\n",
              "      <td>N</td>\n",
              "      <td>N</td>\n",
              "      <td>N</td>\n",
              "      <td>N</td>\n",
              "      <td>Y</td>\n",
              "      <td>NaN</td>\n",
              "      <td>NaN</td>\n",
              "      <td>NaN</td>\n",
              "      <td>NaN</td>\n",
              "      <td>NaN</td>\n",
              "      <td>NaN</td>\n",
              "      <td>PA</td>\n",
              "      <td>X-ray</td>\n",
              "      <td>January 27, 2020</td>\n",
              "      <td>Cho Ray Hospital, Ho Chi Minh City, Vietnam</td>\n",
              "      <td>images</td>\n",
              "      <td>auntminnie-c-2020_01_28_23_51_6665_2020_01_28_...</td>\n",
              "      <td>10.1056/nejmc2001272</td>\n",
              "      <td>https://www.nejm.org/doi/full/10.1056/NEJMc200...</td>\n",
              "      <td>NaN</td>\n",
              "      <td>On January 22, 2020, a 65-year-old man with a ...</td>\n",
              "      <td>NaN</td>\n",
              "    </tr>\n",
              "    <tr>\n",
              "      <th>3</th>\n",
              "      <td>2</td>\n",
              "      <td>6.0</td>\n",
              "      <td>M</td>\n",
              "      <td>65.0</td>\n",
              "      <td>COVID-19</td>\n",
              "      <td>Y</td>\n",
              "      <td>Y</td>\n",
              "      <td>N</td>\n",
              "      <td>N</td>\n",
              "      <td>N</td>\n",
              "      <td>N</td>\n",
              "      <td>Y</td>\n",
              "      <td>NaN</td>\n",
              "      <td>NaN</td>\n",
              "      <td>NaN</td>\n",
              "      <td>NaN</td>\n",
              "      <td>NaN</td>\n",
              "      <td>NaN</td>\n",
              "      <td>PA</td>\n",
              "      <td>X-ray</td>\n",
              "      <td>January 28, 2020</td>\n",
              "      <td>Cho Ray Hospital, Ho Chi Minh City, Vietnam</td>\n",
              "      <td>images</td>\n",
              "      <td>auntminnie-d-2020_01_28_23_51_6665_2020_01_28_...</td>\n",
              "      <td>10.1056/nejmc2001272</td>\n",
              "      <td>https://www.nejm.org/doi/full/10.1056/NEJMc200...</td>\n",
              "      <td>NaN</td>\n",
              "      <td>On January 22, 2020, a 65-year-old man with a ...</td>\n",
              "      <td>NaN</td>\n",
              "    </tr>\n",
              "    <tr>\n",
              "      <th>4</th>\n",
              "      <td>4</td>\n",
              "      <td>0.0</td>\n",
              "      <td>F</td>\n",
              "      <td>52.0</td>\n",
              "      <td>COVID-19</td>\n",
              "      <td>Y</td>\n",
              "      <td>NaN</td>\n",
              "      <td>N</td>\n",
              "      <td>N</td>\n",
              "      <td>N</td>\n",
              "      <td>N</td>\n",
              "      <td>N</td>\n",
              "      <td>NaN</td>\n",
              "      <td>NaN</td>\n",
              "      <td>NaN</td>\n",
              "      <td>NaN</td>\n",
              "      <td>NaN</td>\n",
              "      <td>NaN</td>\n",
              "      <td>PA</td>\n",
              "      <td>X-ray</td>\n",
              "      <td>January 25, 2020</td>\n",
              "      <td>Changhua Christian Hospital, Changhua City, Ta...</td>\n",
              "      <td>images</td>\n",
              "      <td>nejmc2001573_f1a.jpeg</td>\n",
              "      <td>10.1056/NEJMc2001573</td>\n",
              "      <td>https://www.nejm.org/doi/full/10.1056/NEJMc200...</td>\n",
              "      <td>NaN</td>\n",
              "      <td>diffuse infiltrates in the bilateral lower lungs</td>\n",
              "      <td>NaN</td>\n",
              "    </tr>\n",
              "  </tbody>\n",
              "</table>\n",
              "</div>"
            ],
            "text/plain": [
              "  patientid  ...  other_notes\n",
              "0         2  ...          NaN\n",
              "1         2  ...          NaN\n",
              "2         2  ...          NaN\n",
              "3         2  ...          NaN\n",
              "4         4  ...          NaN\n",
              "\n",
              "[5 rows x 29 columns]"
            ]
          },
          "metadata": {
            "tags": []
          },
          "execution_count": 175
        }
      ]
    },
    {
      "cell_type": "code",
      "metadata": {
        "id": "E_BQLHCue24W",
        "colab_type": "code",
        "colab": {
          "base_uri": "https://localhost:8080/",
          "height": 34
        },
        "outputId": "448a5b87-3849-4dbf-bf0c-34eafed2f653"
      },
      "source": [
        "df.shape"
      ],
      "execution_count": 176,
      "outputs": [
        {
          "output_type": "execute_result",
          "data": {
            "text/plain": [
              "(930, 29)"
            ]
          },
          "metadata": {
            "tags": []
          },
          "execution_count": 176
        }
      ]
    },
    {
      "cell_type": "code",
      "metadata": {
        "id": "V4UDF_3VpLn0",
        "colab_type": "code",
        "colab": {}
      },
      "source": [
        "\n",
        "TARGET_DIR=\"/content/drive/My Drive/Colab Notebooks/COVID-19/Dataset/Covid\"\n",
        "if not os.path.exists(TARGET_DIR):\n",
        "  os.mkdir(TARGET_DIR)\n",
        "  print(\"COVID folder created\")\n"
      ],
      "execution_count": 177,
      "outputs": []
    },
    {
      "cell_type": "code",
      "metadata": {
        "id": "CL2rLsNHrYIU",
        "colab_type": "code",
        "colab": {}
      },
      "source": [
        "\n",
        "count=0\n",
        "for (i,row) in df.iterrows():\n",
        "  if row[\"finding\"]==\"COVID-19\" and row[\"view\"]==\"PA\":\n",
        "    filename=row['filename']\n",
        "    image_path=os.path.join(IMAGE_PATH,filename)\n",
        "    image_copy_path=os.path.join(TARGET_DIR,filename)\n",
        "    shutil.copy2(image_path,image_copy_path)\n",
        "    #print(\"Moving image\",count)\n",
        "    count+=1"
      ],
      "execution_count": 178,
      "outputs": []
    },
    {
      "cell_type": "code",
      "metadata": {
        "id": "W1HArlvZtAdC",
        "colab_type": "code",
        "colab": {}
      },
      "source": [
        "#Sampling of Normal dataset(images) from Kaggle\n",
        "\n",
        "import random\n",
        "KAGGLE_FILE_PATH=\"/content/drive/My Drive/Colab Notebooks/COVID-19/chest_xray/train/NORMAL\"\n",
        "TARGET_NORMAL_DIR=\"/content/drive/My Drive/Colab Notebooks/COVID-19/Dataset/Normal\"\n",
        "\n"
      ],
      "execution_count": 179,
      "outputs": []
    },
    {
      "cell_type": "code",
      "metadata": {
        "id": "xjM0inyJzKkq",
        "colab_type": "code",
        "colab": {}
      },
      "source": [
        "image_names=os.listdir(KAGGLE_FILE_PATH)"
      ],
      "execution_count": 180,
      "outputs": []
    },
    {
      "cell_type": "code",
      "metadata": {
        "id": "xs0VjExFzQ6X",
        "colab_type": "code",
        "colab": {}
      },
      "source": [
        "random.shuffle(image_names)"
      ],
      "execution_count": 181,
      "outputs": []
    },
    {
      "cell_type": "code",
      "metadata": {
        "id": "Z9X0j-24zoD0",
        "colab_type": "code",
        "colab": {}
      },
      "source": [
        "for i in range(180):\n",
        "  image_name=image_names[i]\n",
        "  image_path=os.path.join(KAGGLE_FILE_PATH,image_name)\n",
        "  target_path=os.path.join(TARGET_NORMAL_DIR,image_name)\n",
        "  shutil.copy2(image_path,target_path)\n",
        "  #print(\"Copying image\", i)"
      ],
      "execution_count": 182,
      "outputs": []
    },
    {
      "cell_type": "code",
      "metadata": {
        "id": "hzJRFZptr6IE",
        "colab_type": "code",
        "colab": {}
      },
      "source": [
        "root_dir = '/content/drive/My Drive/Colab Notebooks/COVID-19/COVID Dataset'\n",
        "posCls = '/Covid'\n",
        "negCls = '/Normal'\n",
        "\n",
        "if os.path.exists(root_dir):\n",
        "  os.makedirs(root_dir +'/train' + posCls)\n",
        "  os.makedirs(root_dir +'/train' + negCls)\n",
        "  os.makedirs(root_dir +'/val' + posCls)\n",
        "  os.makedirs(root_dir +'/val' + negCls)\n"
      ],
      "execution_count": 183,
      "outputs": []
    },
    {
      "cell_type": "code",
      "metadata": {
        "id": "KETbWzAqNt8_",
        "colab_type": "code",
        "colab": {
          "base_uri": "https://localhost:8080/",
          "height": 50
        },
        "outputId": "57ac8637-7040-4ab5-9c69-311292c2e518"
      },
      "source": [
        "import numpy as np\n",
        "currentCls = posCls\n",
        "src = \"/content/drive/My Drive/Colab Notebooks/COVID-19/Dataset\"+currentCls # Folder to copy images from\n",
        "\n",
        "allFileNames = os.listdir(src)\n",
        "np.random.shuffle(allFileNames)\n",
        "print(len(allFileNames))\n",
        "train_FileNames, val_FileNames = np.split(np.array(allFileNames), [int(len(allFileNames)*0.8)])\n",
        "\n",
        "import numpy as np\n",
        "currentCls1 = negCls\n",
        "src1 = \"/content/drive/My Drive/Colab Notebooks/COVID-19/Dataset\"+currentCls1 # Folder to copy images from\n",
        "\n",
        "allFileNames1 = os.listdir(src1)\n",
        "np.random.shuffle(allFileNames1)\n",
        "print(len(allFileNames1))\n",
        "train_FileNames1, val_FileNames1 = np.split(np.array(allFileNames1), [int(len(allFileNames1)*0.8)])\n",
        "\n"
      ],
      "execution_count": 184,
      "outputs": [
        {
          "output_type": "stream",
          "text": [
            "180\n",
            "180\n"
          ],
          "name": "stdout"
        }
      ]
    },
    {
      "cell_type": "code",
      "metadata": {
        "id": "Wu3KOomvdDmW",
        "colab_type": "code",
        "colab": {
          "base_uri": "https://localhost:8080/",
          "height": 67
        },
        "outputId": "1596255e-dac3-43c1-ee88-8c869c9ede1e"
      },
      "source": [
        "train_FileNames = [src+'/'+ name for name in train_FileNames.tolist()]\n",
        "val_FileNames = [src+'/' + name for name in val_FileNames.tolist()]\n",
        "#test_FileNames = [src+'/' + name for name in test_FileNames.tolist()]\n",
        "\n",
        "print('Total images: ', len(allFileNames))\n",
        "print('Training: ', len(train_FileNames))\n",
        "print('Validation: ', len(val_FileNames))\n",
        "#print('Testing: ', len(test_FileNames))\n",
        "\n",
        "# Copy-pasting images\n",
        "for name in train_FileNames:\n",
        "    shutil.copy(name, \"/content/drive/My Drive/Colab Notebooks/COVID-19/COVID Dataset/train\"+currentCls)\n",
        "\n",
        "for name in val_FileNames:\n",
        "    shutil.copy(name, \"/content/drive/My Drive/Colab Notebooks/COVID-19/COVID Dataset/val\"+currentCls)\n"
      ],
      "execution_count": 185,
      "outputs": [
        {
          "output_type": "stream",
          "text": [
            "Total images:  180\n",
            "Training:  144\n",
            "Validation:  36\n"
          ],
          "name": "stdout"
        }
      ]
    },
    {
      "cell_type": "code",
      "metadata": {
        "id": "Usbb0_djLuMG",
        "colab_type": "code",
        "colab": {
          "base_uri": "https://localhost:8080/",
          "height": 67
        },
        "outputId": "fbbcbcb9-c969-4210-ae05-02a0e091f432"
      },
      "source": [
        "train_FileNames1 = [src1+'/'+ name for name in train_FileNames1.tolist()]\n",
        "val_FileNames1 = [src1+'/' + name for name in val_FileNames1.tolist()]\n",
        "#test_FileNames = [src+'/' + name for name in test_FileNames.tolist()]\n",
        "\n",
        "print('Total images: ', len(allFileNames1))\n",
        "print('Training: ', len(train_FileNames1))\n",
        "print('Validation: ', len(val_FileNames1))\n",
        "#print('Testing: ', len(test_FileNames))\n",
        "\n",
        "# Copy-pasting images\n",
        "for name in train_FileNames1:\n",
        "    shutil.copy(name, \"/content/drive/My Drive/Colab Notebooks/COVID-19/COVID Dataset/train\"+currentCls1)\n",
        "\n",
        "for name in val_FileNames1:\n",
        "    shutil.copy(name, \"/content/drive/My Drive/Colab Notebooks/COVID-19/COVID Dataset/val\"+currentCls1)\n",
        "\n",
        "#for name in test_FileNames:\n",
        " #   shutil.copy(name, \"/content/drive/My Drive/Colab Notebooks/COVID-19/COVID Dataset/test\"+currentCls)"
      ],
      "execution_count": 186,
      "outputs": [
        {
          "output_type": "stream",
          "text": [
            "Total images:  180\n",
            "Training:  144\n",
            "Validation:  36\n"
          ],
          "name": "stdout"
        }
      ]
    },
    {
      "cell_type": "code",
      "metadata": {
        "id": "XuahWkNQ0AEQ",
        "colab_type": "code",
        "colab": {}
      },
      "source": [
        "TRAIN_PATH=\"/content/drive/My Drive/Colab Notebooks/COVID-19/COVID Dataset/train\"\n",
        "VAL_PATH=\"/content/drive/My Drive/Colab Notebooks/COVID-19/COVID Dataset/val\""
      ],
      "execution_count": 187,
      "outputs": []
    },
    {
      "cell_type": "code",
      "metadata": {
        "id": "DxctlJ1gq0cT",
        "colab_type": "code",
        "colab": {}
      },
      "source": [
        "import matplotlib.pyplot as plt\n",
        "import keras\n",
        "from keras.layers import *\n",
        "from keras.models import *\n",
        "from keras_preprocessing import image"
      ],
      "execution_count": 188,
      "outputs": []
    },
    {
      "cell_type": "code",
      "metadata": {
        "id": "OzDrhaLJrWWU",
        "colab_type": "code",
        "colab": {}
      },
      "source": [
        "#CNN Based Model in Keras\n",
        "\n",
        "model=Sequential()\n",
        "model.add(Conv2D(32,kernel_size=(3,3),activation='relu',input_shape=(224,224,3)))\n",
        "model.add(Conv2D(64,(3,3),activation='relu'))\n",
        "model.add(MaxPooling2D(pool_size=(2,2)))\n",
        "model.add(Dropout(0.25))\n",
        "\n",
        "model.add(Conv2D(64,(3,3),activation='relu'))\n",
        "model.add(MaxPooling2D(pool_size=(2,2)))\n",
        "model.add(Dropout(0.25))\n",
        "\n",
        "model.add(Conv2D(64,(3,3),activation='relu'))\n",
        "model.add(MaxPooling2D(pool_size=(2,2)))\n",
        "model.add(Dropout(0.25))\n",
        "\n",
        "model.add(Flatten())\n",
        "model.add(Dense(64,activation='relu'))\n",
        "model.add(Dropout(0.5))\n",
        "\n",
        "model.add(Dense(1,activation='sigmoid'))\n",
        "\n",
        "model.compile(loss=keras.losses.binary_crossentropy,optimizer='adam',metrics=['accuracy'])"
      ],
      "execution_count": 189,
      "outputs": []
    },
    {
      "cell_type": "code",
      "metadata": {
        "id": "8E6LkcN79T9H",
        "colab_type": "code",
        "colab": {
          "base_uri": "https://localhost:8080/",
          "height": 622
        },
        "outputId": "e75062af-7125-4d77-c6fb-e6a88ca79b96"
      },
      "source": [
        "model.summary()"
      ],
      "execution_count": 190,
      "outputs": [
        {
          "output_type": "stream",
          "text": [
            "Model: \"sequential_4\"\n",
            "_________________________________________________________________\n",
            "Layer (type)                 Output Shape              Param #   \n",
            "=================================================================\n",
            "conv2d_16 (Conv2D)           (None, 222, 222, 32)      896       \n",
            "_________________________________________________________________\n",
            "conv2d_17 (Conv2D)           (None, 220, 220, 64)      18496     \n",
            "_________________________________________________________________\n",
            "max_pooling2d_12 (MaxPooling (None, 110, 110, 64)      0         \n",
            "_________________________________________________________________\n",
            "dropout_16 (Dropout)         (None, 110, 110, 64)      0         \n",
            "_________________________________________________________________\n",
            "conv2d_18 (Conv2D)           (None, 108, 108, 64)      36928     \n",
            "_________________________________________________________________\n",
            "max_pooling2d_13 (MaxPooling (None, 54, 54, 64)        0         \n",
            "_________________________________________________________________\n",
            "dropout_17 (Dropout)         (None, 54, 54, 64)        0         \n",
            "_________________________________________________________________\n",
            "conv2d_19 (Conv2D)           (None, 52, 52, 64)        36928     \n",
            "_________________________________________________________________\n",
            "max_pooling2d_14 (MaxPooling (None, 26, 26, 64)        0         \n",
            "_________________________________________________________________\n",
            "dropout_18 (Dropout)         (None, 26, 26, 64)        0         \n",
            "_________________________________________________________________\n",
            "flatten_4 (Flatten)          (None, 43264)             0         \n",
            "_________________________________________________________________\n",
            "dense_8 (Dense)              (None, 64)                2768960   \n",
            "_________________________________________________________________\n",
            "dropout_19 (Dropout)         (None, 64)                0         \n",
            "_________________________________________________________________\n",
            "dense_9 (Dense)              (None, 1)                 65        \n",
            "=================================================================\n",
            "Total params: 2,862,273\n",
            "Trainable params: 2,862,273\n",
            "Non-trainable params: 0\n",
            "_________________________________________________________________\n"
          ],
          "name": "stdout"
        }
      ]
    },
    {
      "cell_type": "code",
      "metadata": {
        "id": "RaXygVu3-Uls",
        "colab_type": "code",
        "colab": {}
      },
      "source": [
        "#Train\n",
        "\n",
        "train_datagen=image.ImageDataGenerator(\n",
        "    rescale=1./255,\n",
        "    shear_range=0.2,\n",
        "    zoom_range=0.2,\n",
        "    horizontal_flip=True\n",
        ")\n",
        "\n",
        "test_dataset=image.ImageDataGenerator(rescale=1./255)"
      ],
      "execution_count": 191,
      "outputs": []
    },
    {
      "cell_type": "code",
      "metadata": {
        "id": "kM-xVIZS_eOB",
        "colab_type": "code",
        "colab": {
          "base_uri": "https://localhost:8080/",
          "height": 34
        },
        "outputId": "267869c1-3071-4070-b4cb-fca282c3487a"
      },
      "source": [
        "train_generator=train_datagen.flow_from_directory(\n",
        "   '/content/drive/My Drive/Colab Notebooks/COVID-19/COVID Dataset/train',\n",
        "   target_size=(224,224),\n",
        "   batch_size=32,\n",
        "   class_mode='binary' \n",
        ")"
      ],
      "execution_count": 192,
      "outputs": [
        {
          "output_type": "stream",
          "text": [
            "Found 288 images belonging to 2 classes.\n"
          ],
          "name": "stdout"
        }
      ]
    },
    {
      "cell_type": "code",
      "metadata": {
        "id": "EWRlKT2cANN_",
        "colab_type": "code",
        "colab": {
          "base_uri": "https://localhost:8080/",
          "height": 34
        },
        "outputId": "6e99043d-af7a-4639-dfb3-b1d7bf42d380"
      },
      "source": [
        "train_generator.class_indices"
      ],
      "execution_count": 193,
      "outputs": [
        {
          "output_type": "execute_result",
          "data": {
            "text/plain": [
              "{'Covid': 0, 'Normal': 1}"
            ]
          },
          "metadata": {
            "tags": []
          },
          "execution_count": 193
        }
      ]
    },
    {
      "cell_type": "code",
      "metadata": {
        "id": "kdpmdlzpAVU0",
        "colab_type": "code",
        "colab": {
          "base_uri": "https://localhost:8080/",
          "height": 34
        },
        "outputId": "e9359dc4-d769-486e-bd16-2b2d8ad72d4a"
      },
      "source": [
        "validation_generator=test_dataset.flow_from_directory(\n",
        "   '/content/drive/My Drive/Colab Notebooks/COVID-19/COVID Dataset/val',\n",
        "   target_size=(224,224),\n",
        "   batch_size=32,\n",
        "   class_mode='binary' \n",
        ")"
      ],
      "execution_count": 194,
      "outputs": [
        {
          "output_type": "stream",
          "text": [
            "Found 72 images belonging to 2 classes.\n"
          ],
          "name": "stdout"
        }
      ]
    },
    {
      "cell_type": "code",
      "metadata": {
        "id": "ddYTWRqwAuSI",
        "colab_type": "code",
        "colab": {
          "base_uri": "https://localhost:8080/",
          "height": 353
        },
        "outputId": "590b68b1-2835-4eaa-9d9a-9c2f724928bd"
      },
      "source": [
        "hist=model.fit_generator(\n",
        "    train_generator,\n",
        "    steps_per_epoch=8,\n",
        "    epochs=10,\n",
        "    validation_data=validation_generator,\n",
        "    validation_steps=2\n",
        ")\n"
      ],
      "execution_count": 195,
      "outputs": [
        {
          "output_type": "stream",
          "text": [
            "Epoch 1/10\n",
            "8/8 [==============================] - 13s 2s/step - loss: 0.8920 - accuracy: 0.5742 - val_loss: 0.6620 - val_accuracy: 0.8750\n",
            "Epoch 2/10\n",
            "8/8 [==============================] - 11s 1s/step - loss: 0.5298 - accuracy: 0.7617 - val_loss: 0.4180 - val_accuracy: 0.8906\n",
            "Epoch 3/10\n",
            "8/8 [==============================] - 12s 1s/step - loss: 0.3933 - accuracy: 0.8164 - val_loss: 0.4339 - val_accuracy: 0.9062\n",
            "Epoch 4/10\n",
            "8/8 [==============================] - 12s 1s/step - loss: 0.3429 - accuracy: 0.8477 - val_loss: 0.3509 - val_accuracy: 0.8906\n",
            "Epoch 5/10\n",
            "8/8 [==============================] - 12s 1s/step - loss: 0.2316 - accuracy: 0.8906 - val_loss: 0.2565 - val_accuracy: 0.9375\n",
            "Epoch 6/10\n",
            "8/8 [==============================] - 11s 1s/step - loss: 0.1914 - accuracy: 0.9336 - val_loss: 0.2547 - val_accuracy: 0.9375\n",
            "Epoch 7/10\n",
            "8/8 [==============================] - 11s 1s/step - loss: 0.2068 - accuracy: 0.9336 - val_loss: 0.2795 - val_accuracy: 0.9375\n",
            "Epoch 8/10\n",
            "8/8 [==============================] - 12s 1s/step - loss: 0.1841 - accuracy: 0.9531 - val_loss: 0.2520 - val_accuracy: 0.9375\n",
            "Epoch 9/10\n",
            "8/8 [==============================] - 11s 1s/step - loss: 0.1439 - accuracy: 0.9492 - val_loss: 0.1921 - val_accuracy: 0.9375\n",
            "Epoch 10/10\n",
            "8/8 [==============================] - 12s 1s/step - loss: 0.1130 - accuracy: 0.9648 - val_loss: 0.2006 - val_accuracy: 0.9531\n"
          ],
          "name": "stdout"
        }
      ]
    },
    {
      "cell_type": "code",
      "metadata": {
        "id": "8lCJopjvkEfd",
        "colab_type": "code",
        "colab": {}
      },
      "source": [
        "model.save(\"model_adv.h5\")\n"
      ],
      "execution_count": 196,
      "outputs": []
    },
    {
      "cell_type": "code",
      "metadata": {
        "id": "FiZ2kttTsAmr",
        "colab_type": "code",
        "colab": {
          "base_uri": "https://localhost:8080/",
          "height": 34
        },
        "outputId": "9d950fb3-3fbe-45fc-ef63-73621e4e69f4"
      },
      "source": [
        "model.evaluate_generator(train_generator)"
      ],
      "execution_count": 197,
      "outputs": [
        {
          "output_type": "execute_result",
          "data": {
            "text/plain": [
              "[0.14153237640857697, 0.9444444179534912]"
            ]
          },
          "metadata": {
            "tags": []
          },
          "execution_count": 197
        }
      ]
    },
    {
      "cell_type": "code",
      "metadata": {
        "id": "tSibkTxmsbx8",
        "colab_type": "code",
        "colab": {
          "base_uri": "https://localhost:8080/",
          "height": 34
        },
        "outputId": "76f65adf-220f-4e7a-977c-e6dcb2eb5165"
      },
      "source": [
        "model.evaluate_generator(validation_generator)"
      ],
      "execution_count": 198,
      "outputs": [
        {
          "output_type": "execute_result",
          "data": {
            "text/plain": [
              "[0.21879301965236664, 0.9444444179534912]"
            ]
          },
          "metadata": {
            "tags": []
          },
          "execution_count": 198
        }
      ]
    },
    {
      "cell_type": "code",
      "metadata": {
        "id": "vjjjef4tvsve",
        "colab_type": "code",
        "colab": {
          "base_uri": "https://localhost:8080/",
          "height": 295
        },
        "outputId": "9b09fb67-8271-4ba0-a5e7-d33d12c12d8e"
      },
      "source": [
        "plt.plot(hist.history['accuracy'])\n",
        "plt.plot(hist.history['val_accuracy'])\n",
        "plt.title('model accuracy')\n",
        "plt.ylabel('accuracy')\n",
        "plt.xlabel('epoch')\n",
        "plt.legend(['train', 'test'], loc='best')\n",
        "plt.show()"
      ],
      "execution_count": 208,
      "outputs": [
        {
          "output_type": "display_data",
          "data": {
            "image/png": "[encoded data removed]",
            "text/plain": [
              "<Figure size 432x288 with 1 Axes>"
            ]
          },
          "metadata": {
            "tags": [],
            "needs_background": "light"
          }
        }
      ]
    },
    {
      "cell_type": "code",
      "metadata": {
        "id": "h9kKSXEjwCeZ",
        "colab_type": "code",
        "colab": {}
      },
      "source": [
        "model=load_model(\"model_adv.h5\")\n",
        "y_actual = []\n",
        "y_test = []"
      ],
      "execution_count": 209,
      "outputs": []
    },
    {
      "cell_type": "code",
      "metadata": {
        "id": "LGrSFwAjyXbO",
        "colab_type": "code",
        "colab": {}
      },
      "source": [
        "for i in os.listdir('/content/drive/My Drive/Colab Notebooks/COVID-19/COVID Dataset/val/Normal'):\n",
        "  img1 = image.load_img('/content/drive/My Drive/Colab Notebooks/COVID-19/COVID Dataset/val/Normal/'+i, target_size=(224,224))\n",
        "  img1 = image.img_to_array(img1)\n",
        "  img1 = np.expand_dims(img1, axis=0)\n",
        "  p = model.predict_classes(img1)\n",
        "  y_test.append(p[0,0])\n",
        "  y_actual.append(1)\n"
      ],
      "execution_count": 210,
      "outputs": []
    },
    {
      "cell_type": "code",
      "metadata": {
        "id": "musoLmjKy4vP",
        "colab_type": "code",
        "colab": {}
      },
      "source": [
        "for i in os.listdir('/content/drive/My Drive/Colab Notebooks/COVID-19/COVID Dataset/val/Covid'):\n",
        "  img = image.load_img('/content/drive/My Drive/Colab Notebooks/COVID-19/COVID Dataset/val/Covid/'+i, target_size=(224,224))\n",
        "  img = image.img_to_array(img)\n",
        "  img = np.expand_dims(img, axis=0)\n",
        "  p = model.predict_classes(img)\n",
        "  y_test.append(p[0,0])\n",
        "  y_actual.append(0)"
      ],
      "execution_count": 211,
      "outputs": []
    },
    {
      "cell_type": "code",
      "metadata": {
        "id": "SPiEqq3M0Pvs",
        "colab_type": "code",
        "colab": {}
      },
      "source": [
        "y_actual = np.array(y_actual)\n",
        "y_test = np.array(y_test)"
      ],
      "execution_count": 212,
      "outputs": []
    },
    {
      "cell_type": "code",
      "metadata": {
        "id": "zXwI9FZZ0YLK",
        "colab_type": "code",
        "colab": {
          "base_uri": "https://localhost:8080/",
          "height": 151
        },
        "outputId": "ba90bf7a-fdaf-4255-86d9-9c956e1a18d6"
      },
      "source": [
        "y_actual, y_test"
      ],
      "execution_count": 213,
      "outputs": [
        {
          "output_type": "execute_result",
          "data": {
            "text/plain": [
              "(array([1, 1, 1, 1, 1, 1, 1, 1, 1, 1, 1, 1, 1, 1, 1, 1, 1, 1, 1, 1, 1, 1,\n",
              "        1, 1, 1, 1, 1, 1, 1, 1, 1, 1, 1, 1, 1, 1, 0, 0, 0, 0, 0, 0, 0, 0,\n",
              "        0, 0, 0, 0, 0, 0, 0, 0, 0, 0, 0, 0, 0, 0, 0, 0, 0, 0, 0, 0, 0, 0,\n",
              "        0, 0, 0, 0, 0, 0]),\n",
              " array([1, 1, 1, 1, 1, 1, 1, 1, 1, 1, 1, 1, 1, 1, 1, 1, 1, 1, 1, 1, 1, 1,\n",
              "        1, 1, 1, 1, 1, 1, 1, 1, 0, 1, 0, 1, 1, 1, 0, 1, 0, 0, 0, 0, 1, 0,\n",
              "        0, 0, 0, 0, 0, 0, 0, 0, 0, 0, 0, 0, 0, 0, 0, 1, 0, 0, 0, 0, 0, 0,\n",
              "        0, 0, 0, 0, 0, 0], dtype=int32))"
            ]
          },
          "metadata": {
            "tags": []
          },
          "execution_count": 213
        }
      ]
    },
    {
      "cell_type": "code",
      "metadata": {
        "id": "x8mz6uNi0a29",
        "colab_type": "code",
        "colab": {}
      },
      "source": [
        "from sklearn.metrics import confusion_matrix"
      ],
      "execution_count": 214,
      "outputs": []
    },
    {
      "cell_type": "code",
      "metadata": {
        "id": "zk4WzykC0fJj",
        "colab_type": "code",
        "colab": {}
      },
      "source": [
        "cm = confusion_matrix(y_actual, y_test)"
      ],
      "execution_count": 215,
      "outputs": []
    },
    {
      "cell_type": "code",
      "metadata": {
        "id": "LKw9TMs-0h6b",
        "colab_type": "code",
        "colab": {
          "base_uri": "https://localhost:8080/",
          "height": 282
        },
        "outputId": "7868a093-9b8a-4f1c-9281-9a3d8de062a0"
      },
      "source": [
        "import seaborn as sns\n",
        "sns.heatmap(cm, cmap=\"plasma\", annot=True)"
      ],
      "execution_count": 216,
      "outputs": [
        {
          "output_type": "execute_result",
          "data": {
            "text/plain": [
              "<matplotlib.axes._subplots.AxesSubplot at 0x7f6d90db7908>"
            ]
          },
          "metadata": {
            "tags": []
          },
          "execution_count": 216
        },
        {
          "output_type": "display_data",
          "data": {
            "image/png": "[encoded data removed]",
            "text/plain": [
              "<Figure size 432x288 with 2 Axes>"
            ]
          },
          "metadata": {
            "tags": [],
            "needs_background": "light"
          }
        }
      ]
    },
    {
      "cell_type": "code",
      "metadata": {
        "id": "KZUGYs1I0nz0",
        "colab_type": "code",
        "colab": {}
      },
      "source": [
        ""
      ],
      "execution_count": 35,
      "outputs": []
    }
  ]
}